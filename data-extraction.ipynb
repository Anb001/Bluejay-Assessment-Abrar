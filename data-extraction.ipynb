{
 "cells": [
  {
   "cell_type": "code",
   "execution_count": 68,
   "id": "initial_id",
   "metadata": {
    "collapsed": true,
    "ExecuteTime": {
     "end_time": "2024-01-18T14:35:36.063812Z",
     "start_time": "2024-01-18T14:35:36.060535Z"
    }
   },
   "outputs": [],
   "source": [
    "import numpy as np\n",
    "import pandas as pd"
   ]
  },
  {
   "cell_type": "code",
   "execution_count": 69,
   "outputs": [
    {
     "data": {
      "text/plain": "   Position ID Position Status                 Time             Time Out  \\\n0    WFS000054          Active                  NaN                  NaN   \n1    WFS000065          Active  09/12/2023 10:08 AM  09/12/2023 01:53 PM   \n2    WFS000065          Active  09/12/2023 02:23 PM  09/12/2023 07:02 PM   \n3    WFS000065          Active  09/13/2023 10:08 AM  09/13/2023 02:20 PM   \n4    WFS000065          Active  09/13/2023 02:50 PM  09/13/2023 08:44 PM   \n5    WFS000065          Active  09/14/2023 10:09 AM  09/14/2023 02:30 PM   \n6    WFS000065          Active  09/14/2023 03:00 PM  09/14/2023 07:14 PM   \n7    WFS000065          Active  09/15/2023 10:11 AM  09/15/2023 02:41 PM   \n8    WFS000065          Active  09/15/2023 03:11 PM  09/15/2023 07:05 PM   \n9    WFS000065          Active  09/16/2023 09:51 AM  09/16/2023 02:50 PM   \n10   WFS000065          Active  09/16/2023 03:20 PM  09/16/2023 08:19 PM   \n11   WFS000065          Active  09/19/2023 09:55 AM  09/19/2023 01:56 PM   \n12   WFS000065          Active  09/19/2023 02:26 PM  09/19/2023 06:29 PM   \n13   WFS000065          Active  09/20/2023 09:54 AM  09/20/2023 02:12 PM   \n14   WFS000065          Active  09/20/2023 02:42 PM  09/20/2023 06:46 PM   \n15   WFS000065          Active  09/21/2023 09:55 AM  09/21/2023 02:03 PM   \n16   WFS000065          Active  09/21/2023 02:33 PM  09/21/2023 06:47 PM   \n17   WFS000065          Active  09/22/2023 09:55 AM  09/22/2023 02:50 PM   \n18   WFS000065          Active  09/22/2023 03:20 PM  09/22/2023 08:26 PM   \n19   WFS000065          Active  09/23/2023 09:55 AM  09/23/2023 03:47 PM   \n\n   Timecard Hours (as Time) Pay Cycle Start Date Pay Cycle End Date  \\\n0                       NaN                  NaN                NaN   \n1                      3:45           09/10/2023         09/23/2023   \n2                      4:39           09/10/2023         09/23/2023   \n3                      4:12           09/10/2023         09/23/2023   \n4                      5:54           09/10/2023         09/23/2023   \n5                      4:21           09/10/2023         09/23/2023   \n6                      4:14           09/10/2023         09/23/2023   \n7                      4:30           09/10/2023         09/23/2023   \n8                      3:54           09/10/2023         09/23/2023   \n9                      4:59           09/10/2023         09/23/2023   \n10                     4:59           09/10/2023         09/23/2023   \n11                     4:01           09/10/2023         09/23/2023   \n12                     4:03           09/10/2023         09/23/2023   \n13                     4:18           09/10/2023         09/23/2023   \n14                     4:04           09/10/2023         09/23/2023   \n15                     4:08           09/10/2023         09/23/2023   \n16                     4:14           09/10/2023         09/23/2023   \n17                     4:55           09/10/2023         09/23/2023   \n18                     5:06           09/10/2023         09/23/2023   \n19                     6:52           09/10/2023         09/23/2023   \n\n      Employee Name  File Number  Unnamed: 9 Unnamed: 10  \n0   SiWgh, PraGhjEM           54         NaN         NaN  \n1   REsaXiaWE, XAis           65         NaN         NaN  \n2   REsaXiaWE, XAis           65         NaN         NaN  \n3   REsaXiaWE, XAis           65         NaN         NaN  \n4   REsaXiaWE, XAis           65         NaN         NaN  \n5   REsaXiaWE, XAis           65         NaN         NaN  \n6   REsaXiaWE, XAis           65         NaN         NaN  \n7   REsaXiaWE, XAis           65         NaN         NaN  \n8   REsaXiaWE, XAis           65         NaN         NaN  \n9   REsaXiaWE, XAis           65         NaN         NaN  \n10  REsaXiaWE, XAis           65         NaN         NaN  \n11  REsaXiaWE, XAis           65         NaN         NaN  \n12  REsaXiaWE, XAis           65         NaN         NaN  \n13  REsaXiaWE, XAis           65         NaN         NaN  \n14  REsaXiaWE, XAis           65         NaN         NaN  \n15  REsaXiaWE, XAis           65         NaN         NaN  \n16  REsaXiaWE, XAis           65         NaN         NaN  \n17  REsaXiaWE, XAis           65         NaN         NaN  \n18  REsaXiaWE, XAis           65         NaN         NaN  \n19  REsaXiaWE, XAis           65         NaN         NaN  ",
      "text/html": "<div>\n<style scoped>\n    .dataframe tbody tr th:only-of-type {\n        vertical-align: middle;\n    }\n\n    .dataframe tbody tr th {\n        vertical-align: top;\n    }\n\n    .dataframe thead th {\n        text-align: right;\n    }\n</style>\n<table border=\"1\" class=\"dataframe\">\n  <thead>\n    <tr style=\"text-align: right;\">\n      <th></th>\n      <th>Position ID</th>\n      <th>Position Status</th>\n      <th>Time</th>\n      <th>Time Out</th>\n      <th>Timecard Hours (as Time)</th>\n      <th>Pay Cycle Start Date</th>\n      <th>Pay Cycle End Date</th>\n      <th>Employee Name</th>\n      <th>File Number</th>\n      <th>Unnamed: 9</th>\n      <th>Unnamed: 10</th>\n    </tr>\n  </thead>\n  <tbody>\n    <tr>\n      <th>0</th>\n      <td>WFS000054</td>\n      <td>Active</td>\n      <td>NaN</td>\n      <td>NaN</td>\n      <td>NaN</td>\n      <td>NaN</td>\n      <td>NaN</td>\n      <td>SiWgh, PraGhjEM</td>\n      <td>54</td>\n      <td>NaN</td>\n      <td>NaN</td>\n    </tr>\n    <tr>\n      <th>1</th>\n      <td>WFS000065</td>\n      <td>Active</td>\n      <td>09/12/2023 10:08 AM</td>\n      <td>09/12/2023 01:53 PM</td>\n      <td>3:45</td>\n      <td>09/10/2023</td>\n      <td>09/23/2023</td>\n      <td>REsaXiaWE, XAis</td>\n      <td>65</td>\n      <td>NaN</td>\n      <td>NaN</td>\n    </tr>\n    <tr>\n      <th>2</th>\n      <td>WFS000065</td>\n      <td>Active</td>\n      <td>09/12/2023 02:23 PM</td>\n      <td>09/12/2023 07:02 PM</td>\n      <td>4:39</td>\n      <td>09/10/2023</td>\n      <td>09/23/2023</td>\n      <td>REsaXiaWE, XAis</td>\n      <td>65</td>\n      <td>NaN</td>\n      <td>NaN</td>\n    </tr>\n    <tr>\n      <th>3</th>\n      <td>WFS000065</td>\n      <td>Active</td>\n      <td>09/13/2023 10:08 AM</td>\n      <td>09/13/2023 02:20 PM</td>\n      <td>4:12</td>\n      <td>09/10/2023</td>\n      <td>09/23/2023</td>\n      <td>REsaXiaWE, XAis</td>\n      <td>65</td>\n      <td>NaN</td>\n      <td>NaN</td>\n    </tr>\n    <tr>\n      <th>4</th>\n      <td>WFS000065</td>\n      <td>Active</td>\n      <td>09/13/2023 02:50 PM</td>\n      <td>09/13/2023 08:44 PM</td>\n      <td>5:54</td>\n      <td>09/10/2023</td>\n      <td>09/23/2023</td>\n      <td>REsaXiaWE, XAis</td>\n      <td>65</td>\n      <td>NaN</td>\n      <td>NaN</td>\n    </tr>\n    <tr>\n      <th>5</th>\n      <td>WFS000065</td>\n      <td>Active</td>\n      <td>09/14/2023 10:09 AM</td>\n      <td>09/14/2023 02:30 PM</td>\n      <td>4:21</td>\n      <td>09/10/2023</td>\n      <td>09/23/2023</td>\n      <td>REsaXiaWE, XAis</td>\n      <td>65</td>\n      <td>NaN</td>\n      <td>NaN</td>\n    </tr>\n    <tr>\n      <th>6</th>\n      <td>WFS000065</td>\n      <td>Active</td>\n      <td>09/14/2023 03:00 PM</td>\n      <td>09/14/2023 07:14 PM</td>\n      <td>4:14</td>\n      <td>09/10/2023</td>\n      <td>09/23/2023</td>\n      <td>REsaXiaWE, XAis</td>\n      <td>65</td>\n      <td>NaN</td>\n      <td>NaN</td>\n    </tr>\n    <tr>\n      <th>7</th>\n      <td>WFS000065</td>\n      <td>Active</td>\n      <td>09/15/2023 10:11 AM</td>\n      <td>09/15/2023 02:41 PM</td>\n      <td>4:30</td>\n      <td>09/10/2023</td>\n      <td>09/23/2023</td>\n      <td>REsaXiaWE, XAis</td>\n      <td>65</td>\n      <td>NaN</td>\n      <td>NaN</td>\n    </tr>\n    <tr>\n      <th>8</th>\n      <td>WFS000065</td>\n      <td>Active</td>\n      <td>09/15/2023 03:11 PM</td>\n      <td>09/15/2023 07:05 PM</td>\n      <td>3:54</td>\n      <td>09/10/2023</td>\n      <td>09/23/2023</td>\n      <td>REsaXiaWE, XAis</td>\n      <td>65</td>\n      <td>NaN</td>\n      <td>NaN</td>\n    </tr>\n    <tr>\n      <th>9</th>\n      <td>WFS000065</td>\n      <td>Active</td>\n      <td>09/16/2023 09:51 AM</td>\n      <td>09/16/2023 02:50 PM</td>\n      <td>4:59</td>\n      <td>09/10/2023</td>\n      <td>09/23/2023</td>\n      <td>REsaXiaWE, XAis</td>\n      <td>65</td>\n      <td>NaN</td>\n      <td>NaN</td>\n    </tr>\n    <tr>\n      <th>10</th>\n      <td>WFS000065</td>\n      <td>Active</td>\n      <td>09/16/2023 03:20 PM</td>\n      <td>09/16/2023 08:19 PM</td>\n      <td>4:59</td>\n      <td>09/10/2023</td>\n      <td>09/23/2023</td>\n      <td>REsaXiaWE, XAis</td>\n      <td>65</td>\n      <td>NaN</td>\n      <td>NaN</td>\n    </tr>\n    <tr>\n      <th>11</th>\n      <td>WFS000065</td>\n      <td>Active</td>\n      <td>09/19/2023 09:55 AM</td>\n      <td>09/19/2023 01:56 PM</td>\n      <td>4:01</td>\n      <td>09/10/2023</td>\n      <td>09/23/2023</td>\n      <td>REsaXiaWE, XAis</td>\n      <td>65</td>\n      <td>NaN</td>\n      <td>NaN</td>\n    </tr>\n    <tr>\n      <th>12</th>\n      <td>WFS000065</td>\n      <td>Active</td>\n      <td>09/19/2023 02:26 PM</td>\n      <td>09/19/2023 06:29 PM</td>\n      <td>4:03</td>\n      <td>09/10/2023</td>\n      <td>09/23/2023</td>\n      <td>REsaXiaWE, XAis</td>\n      <td>65</td>\n      <td>NaN</td>\n      <td>NaN</td>\n    </tr>\n    <tr>\n      <th>13</th>\n      <td>WFS000065</td>\n      <td>Active</td>\n      <td>09/20/2023 09:54 AM</td>\n      <td>09/20/2023 02:12 PM</td>\n      <td>4:18</td>\n      <td>09/10/2023</td>\n      <td>09/23/2023</td>\n      <td>REsaXiaWE, XAis</td>\n      <td>65</td>\n      <td>NaN</td>\n      <td>NaN</td>\n    </tr>\n    <tr>\n      <th>14</th>\n      <td>WFS000065</td>\n      <td>Active</td>\n      <td>09/20/2023 02:42 PM</td>\n      <td>09/20/2023 06:46 PM</td>\n      <td>4:04</td>\n      <td>09/10/2023</td>\n      <td>09/23/2023</td>\n      <td>REsaXiaWE, XAis</td>\n      <td>65</td>\n      <td>NaN</td>\n      <td>NaN</td>\n    </tr>\n    <tr>\n      <th>15</th>\n      <td>WFS000065</td>\n      <td>Active</td>\n      <td>09/21/2023 09:55 AM</td>\n      <td>09/21/2023 02:03 PM</td>\n      <td>4:08</td>\n      <td>09/10/2023</td>\n      <td>09/23/2023</td>\n      <td>REsaXiaWE, XAis</td>\n      <td>65</td>\n      <td>NaN</td>\n      <td>NaN</td>\n    </tr>\n    <tr>\n      <th>16</th>\n      <td>WFS000065</td>\n      <td>Active</td>\n      <td>09/21/2023 02:33 PM</td>\n      <td>09/21/2023 06:47 PM</td>\n      <td>4:14</td>\n      <td>09/10/2023</td>\n      <td>09/23/2023</td>\n      <td>REsaXiaWE, XAis</td>\n      <td>65</td>\n      <td>NaN</td>\n      <td>NaN</td>\n    </tr>\n    <tr>\n      <th>17</th>\n      <td>WFS000065</td>\n      <td>Active</td>\n      <td>09/22/2023 09:55 AM</td>\n      <td>09/22/2023 02:50 PM</td>\n      <td>4:55</td>\n      <td>09/10/2023</td>\n      <td>09/23/2023</td>\n      <td>REsaXiaWE, XAis</td>\n      <td>65</td>\n      <td>NaN</td>\n      <td>NaN</td>\n    </tr>\n    <tr>\n      <th>18</th>\n      <td>WFS000065</td>\n      <td>Active</td>\n      <td>09/22/2023 03:20 PM</td>\n      <td>09/22/2023 08:26 PM</td>\n      <td>5:06</td>\n      <td>09/10/2023</td>\n      <td>09/23/2023</td>\n      <td>REsaXiaWE, XAis</td>\n      <td>65</td>\n      <td>NaN</td>\n      <td>NaN</td>\n    </tr>\n    <tr>\n      <th>19</th>\n      <td>WFS000065</td>\n      <td>Active</td>\n      <td>09/23/2023 09:55 AM</td>\n      <td>09/23/2023 03:47 PM</td>\n      <td>6:52</td>\n      <td>09/10/2023</td>\n      <td>09/23/2023</td>\n      <td>REsaXiaWE, XAis</td>\n      <td>65</td>\n      <td>NaN</td>\n      <td>NaN</td>\n    </tr>\n  </tbody>\n</table>\n</div>"
     },
     "execution_count": 69,
     "metadata": {},
     "output_type": "execute_result"
    }
   ],
   "source": [
    "df=pd.read_csv('data.csv')\n",
    "df.head(20)"
   ],
   "metadata": {
    "collapsed": false,
    "ExecuteTime": {
     "end_time": "2024-01-18T14:35:36.269164Z",
     "start_time": "2024-01-18T14:35:36.248847Z"
    }
   },
   "id": "85beb60af5df5b3b"
  },
  {
   "cell_type": "code",
   "execution_count": 70,
   "outputs": [
    {
     "data": {
      "text/plain": "(1484, 11)"
     },
     "execution_count": 70,
     "metadata": {},
     "output_type": "execute_result"
    }
   ],
   "source": [
    "df.shape"
   ],
   "metadata": {
    "collapsed": false,
    "ExecuteTime": {
     "end_time": "2024-01-18T14:35:36.481817Z",
     "start_time": "2024-01-18T14:35:36.431263Z"
    }
   },
   "id": "b1dfb56a6965808c"
  },
  {
   "cell_type": "code",
   "execution_count": 71,
   "outputs": [
    {
     "data": {
      "text/plain": "Position ID                    0\nPosition Status                0\nTime                          10\nTime Out                      14\nTimecard Hours (as Time)      10\nPay Cycle Start Date          10\nPay Cycle End Date            10\nEmployee Name                  0\nFile Number                    0\nUnnamed: 9                  1484\nUnnamed: 10                 1483\ndtype: int64"
     },
     "execution_count": 71,
     "metadata": {},
     "output_type": "execute_result"
    }
   ],
   "source": [
    "df.isnull().sum()"
   ],
   "metadata": {
    "collapsed": false,
    "ExecuteTime": {
     "end_time": "2024-01-18T14:35:36.570311Z",
     "start_time": "2024-01-18T14:35:36.562829Z"
    }
   },
   "id": "eb0547371a845415"
  },
  {
   "cell_type": "code",
   "execution_count": 72,
   "outputs": [],
   "source": [
    "df.drop(['Unnamed: 9', 'Unnamed: 10'], axis=1, inplace=True)"
   ],
   "metadata": {
    "collapsed": false,
    "ExecuteTime": {
     "end_time": "2024-01-18T14:35:36.722662Z",
     "start_time": "2024-01-18T14:35:36.718675Z"
    }
   },
   "id": "bcc9e09ddea17e2"
  },
  {
   "cell_type": "code",
   "execution_count": 73,
   "outputs": [
    {
     "data": {
      "text/plain": "Position ID                  0\nPosition Status              0\nTime                        10\nTime Out                    14\nTimecard Hours (as Time)    10\nPay Cycle Start Date        10\nPay Cycle End Date          10\nEmployee Name                0\nFile Number                  0\ndtype: int64"
     },
     "execution_count": 73,
     "metadata": {},
     "output_type": "execute_result"
    }
   ],
   "source": [
    "df.isnull().sum()"
   ],
   "metadata": {
    "collapsed": false,
    "ExecuteTime": {
     "end_time": "2024-01-18T14:35:36.914389Z",
     "start_time": "2024-01-18T14:35:36.908403Z"
    }
   },
   "id": "9b6ba3c631b7a588"
  },
  {
   "cell_type": "code",
   "execution_count": 74,
   "outputs": [],
   "source": [
    "df=df.dropna()"
   ],
   "metadata": {
    "collapsed": false,
    "ExecuteTime": {
     "end_time": "2024-01-18T14:35:37.077004Z",
     "start_time": "2024-01-18T14:35:37.072058Z"
    }
   },
   "id": "b8b723a7e8bde4b6"
  },
  {
   "cell_type": "code",
   "execution_count": 75,
   "outputs": [
    {
     "data": {
      "text/plain": "  Position ID Position Status                 Time             Time Out  \\\n1   WFS000065          Active  09/12/2023 10:08 AM  09/12/2023 01:53 PM   \n2   WFS000065          Active  09/12/2023 02:23 PM  09/12/2023 07:02 PM   \n3   WFS000065          Active  09/13/2023 10:08 AM  09/13/2023 02:20 PM   \n4   WFS000065          Active  09/13/2023 02:50 PM  09/13/2023 08:44 PM   \n5   WFS000065          Active  09/14/2023 10:09 AM  09/14/2023 02:30 PM   \n\n  Timecard Hours (as Time) Pay Cycle Start Date Pay Cycle End Date  \\\n1                     3:45           09/10/2023         09/23/2023   \n2                     4:39           09/10/2023         09/23/2023   \n3                     4:12           09/10/2023         09/23/2023   \n4                     5:54           09/10/2023         09/23/2023   \n5                     4:21           09/10/2023         09/23/2023   \n\n     Employee Name  File Number  \n1  REsaXiaWE, XAis           65  \n2  REsaXiaWE, XAis           65  \n3  REsaXiaWE, XAis           65  \n4  REsaXiaWE, XAis           65  \n5  REsaXiaWE, XAis           65  ",
      "text/html": "<div>\n<style scoped>\n    .dataframe tbody tr th:only-of-type {\n        vertical-align: middle;\n    }\n\n    .dataframe tbody tr th {\n        vertical-align: top;\n    }\n\n    .dataframe thead th {\n        text-align: right;\n    }\n</style>\n<table border=\"1\" class=\"dataframe\">\n  <thead>\n    <tr style=\"text-align: right;\">\n      <th></th>\n      <th>Position ID</th>\n      <th>Position Status</th>\n      <th>Time</th>\n      <th>Time Out</th>\n      <th>Timecard Hours (as Time)</th>\n      <th>Pay Cycle Start Date</th>\n      <th>Pay Cycle End Date</th>\n      <th>Employee Name</th>\n      <th>File Number</th>\n    </tr>\n  </thead>\n  <tbody>\n    <tr>\n      <th>1</th>\n      <td>WFS000065</td>\n      <td>Active</td>\n      <td>09/12/2023 10:08 AM</td>\n      <td>09/12/2023 01:53 PM</td>\n      <td>3:45</td>\n      <td>09/10/2023</td>\n      <td>09/23/2023</td>\n      <td>REsaXiaWE, XAis</td>\n      <td>65</td>\n    </tr>\n    <tr>\n      <th>2</th>\n      <td>WFS000065</td>\n      <td>Active</td>\n      <td>09/12/2023 02:23 PM</td>\n      <td>09/12/2023 07:02 PM</td>\n      <td>4:39</td>\n      <td>09/10/2023</td>\n      <td>09/23/2023</td>\n      <td>REsaXiaWE, XAis</td>\n      <td>65</td>\n    </tr>\n    <tr>\n      <th>3</th>\n      <td>WFS000065</td>\n      <td>Active</td>\n      <td>09/13/2023 10:08 AM</td>\n      <td>09/13/2023 02:20 PM</td>\n      <td>4:12</td>\n      <td>09/10/2023</td>\n      <td>09/23/2023</td>\n      <td>REsaXiaWE, XAis</td>\n      <td>65</td>\n    </tr>\n    <tr>\n      <th>4</th>\n      <td>WFS000065</td>\n      <td>Active</td>\n      <td>09/13/2023 02:50 PM</td>\n      <td>09/13/2023 08:44 PM</td>\n      <td>5:54</td>\n      <td>09/10/2023</td>\n      <td>09/23/2023</td>\n      <td>REsaXiaWE, XAis</td>\n      <td>65</td>\n    </tr>\n    <tr>\n      <th>5</th>\n      <td>WFS000065</td>\n      <td>Active</td>\n      <td>09/14/2023 10:09 AM</td>\n      <td>09/14/2023 02:30 PM</td>\n      <td>4:21</td>\n      <td>09/10/2023</td>\n      <td>09/23/2023</td>\n      <td>REsaXiaWE, XAis</td>\n      <td>65</td>\n    </tr>\n  </tbody>\n</table>\n</div>"
     },
     "execution_count": 75,
     "metadata": {},
     "output_type": "execute_result"
    }
   ],
   "source": [
    "df.head()"
   ],
   "metadata": {
    "collapsed": false,
    "ExecuteTime": {
     "end_time": "2024-01-18T14:35:37.206731Z",
     "start_time": "2024-01-18T14:35:37.203712Z"
    }
   },
   "id": "70326d3375585682"
  },
  {
   "cell_type": "markdown",
   "source": [
    "Employees Who have worked for 7 consecutive Days"
   ],
   "metadata": {
    "collapsed": false
   },
   "id": "448064403ff33d18"
  },
  {
   "cell_type": "code",
   "execution_count": 76,
   "outputs": [],
   "source": [
    "%%capture captured_output1\n",
    "\n",
    "df['date'] = pd.to_datetime(df['Time'])\n",
    "\n",
    "# Sorting df by 'Employee name' and 'date'\n",
    "df = df.sort_values(by=['Employee Name', 'date'])\n",
    "\n",
    "# Calculating the difference in consecutive dates for each employee\n",
    "df['date_diff'] = df.groupby('Employee Name')['date'].diff().dt.days\n",
    "\n",
    "# Filtering employees who have worked for 7 consecutive days\n",
    "result_df = df[(df['date_diff'] == 1) & (df.groupby('Employee Name')['date_diff'].shift(-1) == 1)]\n",
    "\n",
    "\n",
    "print(\"Employees who have worked for 7 consecutive Days\")\n",
    "\n",
    "for index, row in result_df.iterrows():\n",
    "    print(f\"Name: {row['Employee Name']}, Position: {row['Position ID']}\")"
   ],
   "metadata": {
    "collapsed": false,
    "ExecuteTime": {
     "end_time": "2024-01-18T14:35:37.552770Z",
     "start_time": "2024-01-18T14:35:37.539722Z"
    }
   },
   "id": "b1a305ca171053c5"
  },
  {
   "cell_type": "markdown",
   "source": [
    "Employees who have less than 10 hours of time between shifts but greater than 1 hour"
   ],
   "metadata": {
    "collapsed": false
   },
   "id": "1b512a76ad85d151"
  },
  {
   "cell_type": "code",
   "execution_count": 77,
   "outputs": [],
   "source": [
    "%%capture captured_output2\n",
    "import pandas as pd\n",
    "\n",
    "df['time in'] = pd.to_datetime(df['Time'])\n",
    "df['time out'] = pd.to_datetime(df['Time Out'])\n",
    "\n",
    "# Sorting df by 'Employee name', 'date', and 'time in'\n",
    "df = df.sort_values(by=['Employee Name', 'date', 'time in'])\n",
    "\n",
    "# Calculating the time difference between consecutive shifts for each employee\n",
    "df['shift_duration'] = (df.groupby('Employee Name')['time in'].shift(-1) - df['time out']).dt.total_seconds() / 3600\n",
    "\n",
    "# Filtering employees who have less than 10 hours but greater than 1 hour between shifts\n",
    "result_df = df[(df['shift_duration'] > 1) & (df['shift_duration'] < 10)]\n",
    "\n",
    "print(\"Employees who have less than 10 hours of time and greater than 1 hour of time b/w their shifts\")\n",
    "\n",
    "\n",
    "for index, row in result_df.iterrows():\n",
    "    print(f\"Name: {row['Employee Name']}, Position: {row['Position ID']}, \"\n",
    "          f\"Date: {row['date'].strftime('%Y-%m-%d')}, \"\n",
    "          f\"Time In: {row['time in'].strftime('%H:%M:%S')}, \"\n",
    "          f\"Time Out: {row['time out'].strftime('%H:%M:%S')}, \"\n",
    "          f\"Shift Duration: {row['shift_duration']:.2f} hours\")\n"
   ],
   "metadata": {
    "collapsed": false,
    "ExecuteTime": {
     "end_time": "2024-01-18T14:35:37.946350Z",
     "start_time": "2024-01-18T14:35:37.863802Z"
    }
   },
   "id": "18d35af5bb192496"
  },
  {
   "cell_type": "markdown",
   "source": [
    "Employees Who have worked for more than 14 hours in a single shift"
   ],
   "metadata": {
    "collapsed": false
   },
   "id": "d3acb5f2ba212ad6"
  },
  {
   "cell_type": "code",
   "execution_count": 78,
   "outputs": [],
   "source": [
    "%%capture captured_output3\n",
    "\n",
    "\n",
    "# Calculating the duration of each shift for each employee\n",
    "df['shift_duration'] = (df['time out'] - df['time in']).dt.total_seconds() / 3600\n",
    "\n",
    "# Filtering employees who have worked for more than 14 hours in a single shift\n",
    "\n",
    "result_df = df[df['shift_duration'] > 14]\n",
    "\n",
    "print(\"Employees who has worked for more than 14 hours in a single shift\")\n",
    "\n",
    "\n",
    "for index, row in result_df.iterrows():\n",
    "    print(f\"Name: {row['Employee Name']}, Position: {row['Position ID']}, \"\n",
    "          f\"Time In: {row['time in'].strftime('%H:%M:%S')}, \"\n",
    "          f\"Time Out: {row['time out'].strftime('%H:%M:%S')}, \"\n",
    "          f\"Shift Duration: {row['shift_duration']:.2f} hours\")\n"
   ],
   "metadata": {
    "collapsed": false,
    "ExecuteTime": {
     "end_time": "2024-01-18T14:35:38.176659Z",
     "start_time": "2024-01-18T14:35:38.171606Z"
    }
   },
   "id": "8200dee79ac88be9"
  },
  {
   "cell_type": "code",
   "execution_count": 79,
   "outputs": [],
   "source": [
    "with open('output.txt', 'w') as f:\n",
    "    f.write(captured_output1.stdout)\n",
    "    f.write(captured_output2.stdout)\n",
    "    f.write(captured_output3.stdout)\n",
    "    "
   ],
   "metadata": {
    "collapsed": false,
    "ExecuteTime": {
     "end_time": "2024-01-18T14:35:38.351538Z",
     "start_time": "2024-01-18T14:35:38.348445Z"
    }
   },
   "id": "e3ce90c8a8c37a87"
  }
 ],
 "metadata": {
  "kernelspec": {
   "display_name": "Python 3",
   "language": "python",
   "name": "python3"
  },
  "language_info": {
   "codemirror_mode": {
    "name": "ipython",
    "version": 2
   },
   "file_extension": ".py",
   "mimetype": "text/x-python",
   "name": "python",
   "nbconvert_exporter": "python",
   "pygments_lexer": "ipython2",
   "version": "2.7.6"
  }
 },
 "nbformat": 4,
 "nbformat_minor": 5
}
